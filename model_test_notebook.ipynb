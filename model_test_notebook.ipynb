{
 "cells": [
  {
   "cell_type": "code",
   "id": "initial_id",
   "metadata": {
    "collapsed": true,
    "ExecuteTime": {
     "end_time": "2024-12-02T14:36:02.358981Z",
     "start_time": "2024-12-02T14:36:02.356252Z"
    }
   },
   "source": [
    "import numpy as np\n",
    "from stable_baselines3 import PPO\n",
    "import quantum_envs\n",
    "from timeit import default_timer as timer"
   ],
   "outputs": [],
   "execution_count": 31
  },
  {
   "metadata": {
    "ExecuteTime": {
     "end_time": "2024-12-02T14:36:02.379339Z",
     "start_time": "2024-12-02T14:36:02.366720Z"
    }
   },
   "cell_type": "code",
   "source": "model = PPO.load(\"models/quantum_env_xor-v0-8x8-16-20241115094456-1143/best_model.zip\")",
   "id": "ae9fc662fbd2c2f8",
   "outputs": [],
   "execution_count": 32
  },
  {
   "metadata": {
    "ExecuteTime": {
     "end_time": "2024-12-02T14:36:02.384542Z",
     "start_time": "2024-12-02T14:36:02.381771Z"
    }
   },
   "cell_type": "code",
   "source": [
    "def estimate_operations(matrix):\n",
    "    env = quantum_envs.QuantumCircuit(cardinality=8)\n",
    "    done = False\n",
    "    truncated = False\n",
    "    steps = 0\n",
    "    env.state[0] = matrix\n",
    "    while not done and not truncated:\n",
    "        steps += 1\n",
    "        action, _states = model.predict(env.state)\n",
    "        obs, reward, done, truncated, info = env.step(action)\n",
    "    return steps"
   ],
   "id": "c008669ed0f5cad7",
   "outputs": [],
   "execution_count": 33
  },
  {
   "metadata": {
    "ExecuteTime": {
     "end_time": "2024-12-02T14:36:02.388521Z",
     "start_time": "2024-12-02T14:36:02.385494Z"
    }
   },
   "cell_type": "code",
   "source": [
    "test_matrix = np.array([[0, 0, 0, 1, 0, 1, 1, 1],\n",
    "                        [0, 1, 1, 1, 1, 0, 0, 0],\n",
    "                        [1, 0, 0, 0, 1, 1, 1, 1],\n",
    "                        [0, 1, 1, 1, 1, 0, 1, 0],\n",
    "                        [0, 0, 1, 1, 0, 0, 0, 0],\n",
    "                        [1, 0, 0, 1, 0, 1, 0, 1],\n",
    "                        [1, 0, 0, 0, 0, 0, 0, 1],\n",
    "                        [0, 1, 1, 0, 1, 0, 0, 1]])\n",
    "\n",
    "repetitions = 100"
   ],
   "id": "696fd79828e5cbb2",
   "outputs": [],
   "execution_count": 34
  },
  {
   "metadata": {
    "ExecuteTime": {
     "end_time": "2024-12-02T14:36:02.746753Z",
     "start_time": "2024-12-02T14:36:02.409555Z"
    }
   },
   "cell_type": "code",
   "source": [
    "start = timer()\n",
    "estimations = np.array([estimate_operations(test_matrix) for i in range(repetitions)])\n",
    "end = timer()"
   ],
   "id": "262a1321c58d5a6b",
   "outputs": [],
   "execution_count": 35
  },
  {
   "metadata": {
    "ExecuteTime": {
     "end_time": "2024-12-02T14:36:02.756698Z",
     "start_time": "2024-12-02T14:36:02.754278Z"
    }
   },
   "cell_type": "code",
   "source": [
    "print(f\"Mean number of operations: {estimations.mean()}\")\n",
    "print(f\"Min number of operations: {estimations.min()}\")\n",
    "print(f\"Max number of operations: {estimations.max()}\")\n",
    "print(f\"Mean exectution time: {(end-start)/repetitions} s\")"
   ],
   "id": "d50d9346b552f8da",
   "outputs": [
    {
     "name": "stdout",
     "output_type": "stream",
     "text": [
      "Mean number of operations: 24.64\n",
      "Min number of operations: 24\n",
      "Max number of operations: 26\n",
      "Mean exectution time: 0.0033362920799999076 s\n"
     ]
    }
   ],
   "execution_count": 36
  }
 ],
 "metadata": {
  "kernelspec": {
   "display_name": "Python 3",
   "language": "python",
   "name": "python3"
  },
  "language_info": {
   "codemirror_mode": {
    "name": "ipython",
    "version": 2
   },
   "file_extension": ".py",
   "mimetype": "text/x-python",
   "name": "python",
   "nbconvert_exporter": "python",
   "pygments_lexer": "ipython2",
   "version": "2.7.6"
  }
 },
 "nbformat": 4,
 "nbformat_minor": 5
}
